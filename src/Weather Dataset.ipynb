{
 "cells": [
  {
   "cell_type": "markdown",
   "id": "d3d356cc",
   "metadata": {},
   "source": [
    "# Weather Dataset"
   ]
  },
  {
   "cell_type": "code",
   "execution_count": 4,
   "id": "cea5b669",
   "metadata": {},
   "outputs": [],
   "source": [
    "import numpy as np\n",
    "import pandas as pd\n",
    "import matplotlib.pyplot as plt\n",
    "import seaborn as sns\n",
    "import os\n",
    "from datetime import datetime, timedelta\n",
    "from windrose import WindroseAxes\n",
    "import matplotlib.cm as cm\n",
    "import numpy as np\n",
    "\n",
    "sns.set(rc={'figure.figsize':(13,13)})"
   ]
  },
  {
   "cell_type": "markdown",
   "id": "292835d4",
   "metadata": {},
   "source": [
    "## 1. Data Import - Weather Dataset<a id='1'></a>"
   ]
  },
  {
   "cell_type": "code",
   "execution_count": 5,
   "id": "04b67181",
   "metadata": {},
   "outputs": [
    {
     "data": {
      "text/plain": [
       "(331166, 10)"
      ]
     },
     "execution_count": 5,
     "metadata": {},
     "output_type": "execute_result"
    }
   ],
   "source": [
    "path = '../data/weather/'\n",
    "file_name = 'weather.csv'\n",
    "full_path = path + file_name\n",
    "\n",
    "weather_df = pd.read_csv(full_path)\n",
    "weather_df.shape"
   ]
  },
  {
   "cell_type": "code",
   "execution_count": 6,
   "id": "59339e8c",
   "metadata": {},
   "outputs": [
    {
     "name": "stdout",
     "output_type": "stream",
     "text": [
      "<class 'pandas.core.frame.DataFrame'>\n",
      "RangeIndex: 331166 entries, 0 to 331165\n",
      "Data columns (total 10 columns):\n",
      " #   Column          Non-Null Count   Dtype  \n",
      "---  ------          --------------   -----  \n",
      " 0   timestamp       331166 non-null  object \n",
      " 1   site_id         331166 non-null  object \n",
      " 2   airTemperature  331038 non-null  float64\n",
      " 3   cloudCoverage   160179 non-null  float64\n",
      " 4   dewTemperature  330838 non-null  float64\n",
      " 5   precipDepth1HR  197980 non-null  float64\n",
      " 6   precipDepth6HR  18162 non-null   float64\n",
      " 7   seaLvlPressure  309542 non-null  float64\n",
      " 8   windDirection   318161 non-null  float64\n",
      " 9   windSpeed       330592 non-null  float64\n",
      "dtypes: float64(8), object(2)\n",
      "memory usage: 25.3+ MB\n"
     ]
    }
   ],
   "source": [
    "weather_df.info()"
   ]
  },
  {
   "cell_type": "markdown",
   "id": "66af2152",
   "metadata": {},
   "source": [
    "Code below to reduce df memory size"
   ]
  },
  {
   "cell_type": "code",
   "execution_count": 401,
   "id": "97d527f5",
   "metadata": {},
   "outputs": [],
   "source": [
    "def reduce_mem_usage(df, verbose=True):\n",
    "    numerics = ['int16', 'int32', 'int64', 'float16', 'float32', 'float64']\n",
    "    start_mem = df.memory_usage().sum() / 1024**2    \n",
    "    for col in df.columns:\n",
    "        col_type = df[col].dtypes\n",
    "        if col_type in numerics:\n",
    "            c_min = df[col].min()\n",
    "            c_max = df[col].max()\n",
    "            if str(col_type)[:3] == 'int':\n",
    "                if c_min > np.iinfo(np.int8).min and c_max < np.iinfo(np.int8).max:\n",
    "                    df[col] = df[col].astype(np.int8)\n",
    "                elif c_min > np.iinfo(np.int16).min and c_max < np.iinfo(np.int16).max:\n",
    "                    df[col] = df[col].astype(np.int16)\n",
    "                elif c_min > np.iinfo(np.int32).min and c_max < np.iinfo(np.int32).max:\n",
    "                    df[col] = df[col].astype(np.int32)\n",
    "                elif c_min > np.iinfo(np.int64).min and c_max < np.iinfo(np.int64).max:\n",
    "                    df[col] = df[col].astype(np.int64)  \n",
    "            else:\n",
    "                if c_min > np.finfo(np.float16).min and c_max < np.finfo(np.float16).max:\n",
    "                    df[col] = df[col].astype(np.float16)\n",
    "                elif c_min > np.finfo(np.float32).min and c_max < np.finfo(np.float32).max:\n",
    "                    df[col] = df[col].astype(np.float32)\n",
    "                else:\n",
    "                    df[col] = df[col].astype(np.float64)    \n",
    "    end_mem = df.memory_usage().sum() / 1024**2\n",
    "    if verbose: print('Mem. usage decreased to {:5.2f} Mb ({:.1f}% reduction)'.format(end_mem, 100 * (start_mem - end_mem) / start_mem))\n",
    "    return df\n"
   ]
  },
  {
   "cell_type": "code",
   "execution_count": 402,
   "id": "4636d743",
   "metadata": {},
   "outputs": [
    {
     "name": "stdout",
     "output_type": "stream",
     "text": [
      "Mem. usage decreased to 10.11 Mb (60.0% reduction)\n"
     ]
    }
   ],
   "source": [
    "weather_df = reduce_mem_usage(weather_df)"
   ]
  },
  {
   "cell_type": "code",
   "execution_count": 403,
   "id": "a8738dd4",
   "metadata": {},
   "outputs": [
    {
     "data": {
      "text/html": [
       "<div>\n",
       "<style scoped>\n",
       "    .dataframe tbody tr th:only-of-type {\n",
       "        vertical-align: middle;\n",
       "    }\n",
       "\n",
       "    .dataframe tbody tr th {\n",
       "        vertical-align: top;\n",
       "    }\n",
       "\n",
       "    .dataframe thead th {\n",
       "        text-align: right;\n",
       "    }\n",
       "</style>\n",
       "<table border=\"1\" class=\"dataframe\">\n",
       "  <thead>\n",
       "    <tr style=\"text-align: right;\">\n",
       "      <th></th>\n",
       "      <th>timestamp</th>\n",
       "      <th>site_id</th>\n",
       "      <th>airTemperature</th>\n",
       "      <th>cloudCoverage</th>\n",
       "      <th>dewTemperature</th>\n",
       "      <th>precipDepth1HR</th>\n",
       "      <th>precipDepth6HR</th>\n",
       "      <th>seaLvlPressure</th>\n",
       "      <th>windDirection</th>\n",
       "      <th>windSpeed</th>\n",
       "    </tr>\n",
       "  </thead>\n",
       "  <tbody>\n",
       "    <tr>\n",
       "      <th>0</th>\n",
       "      <td>2016-01-01 00:00:00</td>\n",
       "      <td>Panther</td>\n",
       "      <td>19.40625</td>\n",
       "      <td>NaN</td>\n",
       "      <td>19.40625</td>\n",
       "      <td>0.0</td>\n",
       "      <td>NaN</td>\n",
       "      <td>NaN</td>\n",
       "      <td>0.0</td>\n",
       "      <td>0.0</td>\n",
       "    </tr>\n",
       "    <tr>\n",
       "      <th>1</th>\n",
       "      <td>2016-01-01 01:00:00</td>\n",
       "      <td>Panther</td>\n",
       "      <td>21.09375</td>\n",
       "      <td>6.0</td>\n",
       "      <td>21.09375</td>\n",
       "      <td>-1.0</td>\n",
       "      <td>NaN</td>\n",
       "      <td>1019.5</td>\n",
       "      <td>0.0</td>\n",
       "      <td>0.0</td>\n",
       "    </tr>\n",
       "    <tr>\n",
       "      <th>2</th>\n",
       "      <td>2016-01-01 02:00:00</td>\n",
       "      <td>Panther</td>\n",
       "      <td>21.09375</td>\n",
       "      <td>NaN</td>\n",
       "      <td>21.09375</td>\n",
       "      <td>0.0</td>\n",
       "      <td>NaN</td>\n",
       "      <td>1019.0</td>\n",
       "      <td>210.0</td>\n",
       "      <td>1.5</td>\n",
       "    </tr>\n",
       "    <tr>\n",
       "      <th>3</th>\n",
       "      <td>2016-01-01 03:00:00</td>\n",
       "      <td>Panther</td>\n",
       "      <td>20.59375</td>\n",
       "      <td>NaN</td>\n",
       "      <td>20.00000</td>\n",
       "      <td>0.0</td>\n",
       "      <td>NaN</td>\n",
       "      <td>1018.0</td>\n",
       "      <td>0.0</td>\n",
       "      <td>0.0</td>\n",
       "    </tr>\n",
       "    <tr>\n",
       "      <th>4</th>\n",
       "      <td>2016-01-01 04:00:00</td>\n",
       "      <td>Panther</td>\n",
       "      <td>21.09375</td>\n",
       "      <td>NaN</td>\n",
       "      <td>20.59375</td>\n",
       "      <td>0.0</td>\n",
       "      <td>NaN</td>\n",
       "      <td>1019.0</td>\n",
       "      <td>290.0</td>\n",
       "      <td>1.5</td>\n",
       "    </tr>\n",
       "  </tbody>\n",
       "</table>\n",
       "</div>"
      ],
      "text/plain": [
       "             timestamp  site_id  airTemperature  cloudCoverage  \\\n",
       "0  2016-01-01 00:00:00  Panther        19.40625            NaN   \n",
       "1  2016-01-01 01:00:00  Panther        21.09375            6.0   \n",
       "2  2016-01-01 02:00:00  Panther        21.09375            NaN   \n",
       "3  2016-01-01 03:00:00  Panther        20.59375            NaN   \n",
       "4  2016-01-01 04:00:00  Panther        21.09375            NaN   \n",
       "\n",
       "   dewTemperature  precipDepth1HR  precipDepth6HR  seaLvlPressure  \\\n",
       "0        19.40625             0.0             NaN             NaN   \n",
       "1        21.09375            -1.0             NaN          1019.5   \n",
       "2        21.09375             0.0             NaN          1019.0   \n",
       "3        20.00000             0.0             NaN          1018.0   \n",
       "4        20.59375             0.0             NaN          1019.0   \n",
       "\n",
       "   windDirection  windSpeed  \n",
       "0            0.0        0.0  \n",
       "1            0.0        0.0  \n",
       "2          210.0        1.5  \n",
       "3            0.0        0.0  \n",
       "4          290.0        1.5  "
      ]
     },
     "execution_count": 403,
     "metadata": {},
     "output_type": "execute_result"
    }
   ],
   "source": [
    "weather_df.head()"
   ]
  },
  {
   "cell_type": "markdown",
   "id": "592e641a",
   "metadata": {},
   "source": [
    "## 2. Target Location Selection<a id='2'></a>"
   ]
  },
  {
   "cell_type": "code",
   "execution_count": 404,
   "id": "3ad57308",
   "metadata": {},
   "outputs": [
    {
     "data": {
      "text/plain": [
       "Panther     17544\n",
       "Gator       17544\n",
       "Fox         17543\n",
       "Bear        17542\n",
       "Hog         17542\n",
       "Rat         17539\n",
       "Peacock     17539\n",
       "Eagle       17536\n",
       "Swan        17535\n",
       "Bull        17529\n",
       "Bobcat      17525\n",
       "Shrew       17516\n",
       "Robin       17516\n",
       "Mouse       17516\n",
       "Wolf        17505\n",
       "Lamb        17500\n",
       "Cockatoo    16975\n",
       "Crow        16860\n",
       "Moose       16860\n",
       "Name: site_id, dtype: int64"
      ]
     },
     "execution_count": 404,
     "metadata": {},
     "output_type": "execute_result"
    }
   ],
   "source": [
    "weather_df.site_id.value_counts()"
   ]
  },
  {
   "cell_type": "markdown",
   "id": "3c589035",
   "metadata": {},
   "source": [
    "Similar to the data wrangling process we did for buildings, we want to only pick the weather information we care about: \"Moose (Ottawa, Ontario)\", \"Crow (Ottawa, Ontario)\", \"Hog (Minneapolis, Minnesota)\", \"Cockatoo (Cornell, New York)\""
   ]
  },
  {
   "cell_type": "code",
   "execution_count": 405,
   "id": "8730c5fa",
   "metadata": {},
   "outputs": [
    {
     "data": {
      "text/plain": [
       "(68237, 10)"
      ]
     },
     "execution_count": 405,
     "metadata": {},
     "output_type": "execute_result"
    }
   ],
   "source": [
    "target_sites = ['Moose', 'Crow', 'Hog', 'Cockatoo']\n",
    "weather_df = weather_df[weather_df.site_id.isin(target_sites)]\n",
    "\n",
    "#replace site_id with real location's name\n",
    "weather_df = weather_df.replace(to_replace='Moose', value='Ottawa_1')\n",
    "weather_df = weather_df.replace(to_replace='Crow', value='Ottawa_2')\n",
    "weather_df = weather_df.replace(to_replace='Hog', value='Minneapolis')\n",
    "weather_df = weather_df.replace(to_replace='Cockatoo', value='Cornell')\n",
    "\n",
    "weather_df.shape"
   ]
  },
  {
   "cell_type": "code",
   "execution_count": 406,
   "id": "de809727",
   "metadata": {},
   "outputs": [
    {
     "data": {
      "text/plain": [
       "Minneapolis    17542\n",
       "Cornell        16975\n",
       "Ottawa_1       16860\n",
       "Ottawa_2       16860\n",
       "Name: site_id, dtype: int64"
      ]
     },
     "execution_count": 406,
     "metadata": {},
     "output_type": "execute_result"
    }
   ],
   "source": [
    "weather_df.site_id.value_counts()"
   ]
  },
  {
   "cell_type": "markdown",
   "id": "bbb22e08",
   "metadata": {},
   "source": [
    "### 2.1 Location: Ottawa Data Investigation<a id='2.1'></a>"
   ]
  },
  {
   "cell_type": "markdown",
   "id": "cfc4bb22",
   "metadata": {},
   "source": [
    "We notice that we have 2 locations as Ottawa. In theory, the weather information under site_ids \"Ottawa_1\" and 'Ottawa_2' should be the same. The fact that they have same amount of data (16860) is a hint. We will now confirm this. If we have a number of 16860 of duplicate items, then we can confirm that the weather information under both site_ids are the same."
   ]
  },
  {
   "cell_type": "code",
   "execution_count": 407,
   "id": "cacd0be6",
   "metadata": {},
   "outputs": [
    {
     "data": {
      "text/html": [
       "<div>\n",
       "<style scoped>\n",
       "    .dataframe tbody tr th:only-of-type {\n",
       "        vertical-align: middle;\n",
       "    }\n",
       "\n",
       "    .dataframe tbody tr th {\n",
       "        vertical-align: top;\n",
       "    }\n",
       "\n",
       "    .dataframe thead th {\n",
       "        text-align: right;\n",
       "    }\n",
       "</style>\n",
       "<table border=\"1\" class=\"dataframe\">\n",
       "  <thead>\n",
       "    <tr style=\"text-align: right;\">\n",
       "      <th></th>\n",
       "      <th>timestamp</th>\n",
       "      <th>site_id</th>\n",
       "      <th>airTemperature</th>\n",
       "      <th>cloudCoverage</th>\n",
       "      <th>dewTemperature</th>\n",
       "      <th>precipDepth1HR</th>\n",
       "      <th>precipDepth6HR</th>\n",
       "      <th>seaLvlPressure</th>\n",
       "      <th>windDirection</th>\n",
       "      <th>windSpeed</th>\n",
       "    </tr>\n",
       "  </thead>\n",
       "  <tbody>\n",
       "    <tr>\n",
       "      <th>122723</th>\n",
       "      <td>2016-01-01 00:00:00</td>\n",
       "      <td>Ottawa_1</td>\n",
       "      <td>-2.199219</td>\n",
       "      <td>NaN</td>\n",
       "      <td>-3.599609</td>\n",
       "      <td>NaN</td>\n",
       "      <td>NaN</td>\n",
       "      <td>1014.5</td>\n",
       "      <td>270.0</td>\n",
       "      <td>2.099609</td>\n",
       "    </tr>\n",
       "    <tr>\n",
       "      <th>122724</th>\n",
       "      <td>2016-01-01 01:00:00</td>\n",
       "      <td>Ottawa_1</td>\n",
       "      <td>-2.300781</td>\n",
       "      <td>NaN</td>\n",
       "      <td>-3.800781</td>\n",
       "      <td>NaN</td>\n",
       "      <td>0.0</td>\n",
       "      <td>1014.5</td>\n",
       "      <td>260.0</td>\n",
       "      <td>2.099609</td>\n",
       "    </tr>\n",
       "    <tr>\n",
       "      <th>122725</th>\n",
       "      <td>2016-01-01 02:00:00</td>\n",
       "      <td>Ottawa_1</td>\n",
       "      <td>-2.800781</td>\n",
       "      <td>NaN</td>\n",
       "      <td>-4.000000</td>\n",
       "      <td>NaN</td>\n",
       "      <td>NaN</td>\n",
       "      <td>1014.0</td>\n",
       "      <td>260.0</td>\n",
       "      <td>1.500000</td>\n",
       "    </tr>\n",
       "    <tr>\n",
       "      <th>122726</th>\n",
       "      <td>2016-01-01 03:00:00</td>\n",
       "      <td>Ottawa_1</td>\n",
       "      <td>-3.000000</td>\n",
       "      <td>NaN</td>\n",
       "      <td>-3.800781</td>\n",
       "      <td>5.0</td>\n",
       "      <td>NaN</td>\n",
       "      <td>1014.0</td>\n",
       "      <td>260.0</td>\n",
       "      <td>1.500000</td>\n",
       "    </tr>\n",
       "    <tr>\n",
       "      <th>122727</th>\n",
       "      <td>2016-01-01 04:00:00</td>\n",
       "      <td>Ottawa_1</td>\n",
       "      <td>-3.300781</td>\n",
       "      <td>NaN</td>\n",
       "      <td>-3.800781</td>\n",
       "      <td>NaN</td>\n",
       "      <td>NaN</td>\n",
       "      <td>1013.5</td>\n",
       "      <td>230.0</td>\n",
       "      <td>1.000000</td>\n",
       "    </tr>\n",
       "    <tr>\n",
       "      <th>...</th>\n",
       "      <td>...</td>\n",
       "      <td>...</td>\n",
       "      <td>...</td>\n",
       "      <td>...</td>\n",
       "      <td>...</td>\n",
       "      <td>...</td>\n",
       "      <td>...</td>\n",
       "      <td>...</td>\n",
       "      <td>...</td>\n",
       "      <td>...</td>\n",
       "    </tr>\n",
       "    <tr>\n",
       "      <th>209036</th>\n",
       "      <td>2017-12-31 19:00:00</td>\n",
       "      <td>Ottawa_2</td>\n",
       "      <td>-21.500000</td>\n",
       "      <td>NaN</td>\n",
       "      <td>-26.906250</td>\n",
       "      <td>NaN</td>\n",
       "      <td>0.0</td>\n",
       "      <td>1030.0</td>\n",
       "      <td>280.0</td>\n",
       "      <td>3.599609</td>\n",
       "    </tr>\n",
       "    <tr>\n",
       "      <th>209037</th>\n",
       "      <td>2017-12-31 20:00:00</td>\n",
       "      <td>Ottawa_2</td>\n",
       "      <td>-21.203125</td>\n",
       "      <td>NaN</td>\n",
       "      <td>-26.406250</td>\n",
       "      <td>NaN</td>\n",
       "      <td>NaN</td>\n",
       "      <td>1030.0</td>\n",
       "      <td>290.0</td>\n",
       "      <td>5.101562</td>\n",
       "    </tr>\n",
       "    <tr>\n",
       "      <th>209038</th>\n",
       "      <td>2017-12-31 21:00:00</td>\n",
       "      <td>Ottawa_2</td>\n",
       "      <td>-22.296875</td>\n",
       "      <td>NaN</td>\n",
       "      <td>-26.906250</td>\n",
       "      <td>NaN</td>\n",
       "      <td>NaN</td>\n",
       "      <td>1030.0</td>\n",
       "      <td>280.0</td>\n",
       "      <td>3.099609</td>\n",
       "    </tr>\n",
       "    <tr>\n",
       "      <th>209039</th>\n",
       "      <td>2017-12-31 22:00:00</td>\n",
       "      <td>Ottawa_2</td>\n",
       "      <td>-22.906250</td>\n",
       "      <td>NaN</td>\n",
       "      <td>-26.796875</td>\n",
       "      <td>NaN</td>\n",
       "      <td>NaN</td>\n",
       "      <td>1030.0</td>\n",
       "      <td>260.0</td>\n",
       "      <td>2.099609</td>\n",
       "    </tr>\n",
       "    <tr>\n",
       "      <th>209040</th>\n",
       "      <td>2017-12-31 23:00:00</td>\n",
       "      <td>Ottawa_2</td>\n",
       "      <td>-23.093750</td>\n",
       "      <td>NaN</td>\n",
       "      <td>-27.093750</td>\n",
       "      <td>NaN</td>\n",
       "      <td>NaN</td>\n",
       "      <td>1030.0</td>\n",
       "      <td>280.0</td>\n",
       "      <td>2.599609</td>\n",
       "    </tr>\n",
       "  </tbody>\n",
       "</table>\n",
       "<p>33720 rows × 10 columns</p>\n",
       "</div>"
      ],
      "text/plain": [
       "                  timestamp   site_id  airTemperature  cloudCoverage  \\\n",
       "122723  2016-01-01 00:00:00  Ottawa_1       -2.199219            NaN   \n",
       "122724  2016-01-01 01:00:00  Ottawa_1       -2.300781            NaN   \n",
       "122725  2016-01-01 02:00:00  Ottawa_1       -2.800781            NaN   \n",
       "122726  2016-01-01 03:00:00  Ottawa_1       -3.000000            NaN   \n",
       "122727  2016-01-01 04:00:00  Ottawa_1       -3.300781            NaN   \n",
       "...                     ...       ...             ...            ...   \n",
       "209036  2017-12-31 19:00:00  Ottawa_2      -21.500000            NaN   \n",
       "209037  2017-12-31 20:00:00  Ottawa_2      -21.203125            NaN   \n",
       "209038  2017-12-31 21:00:00  Ottawa_2      -22.296875            NaN   \n",
       "209039  2017-12-31 22:00:00  Ottawa_2      -22.906250            NaN   \n",
       "209040  2017-12-31 23:00:00  Ottawa_2      -23.093750            NaN   \n",
       "\n",
       "        dewTemperature  precipDepth1HR  precipDepth6HR  seaLvlPressure  \\\n",
       "122723       -3.599609             NaN             NaN          1014.5   \n",
       "122724       -3.800781             NaN             0.0          1014.5   \n",
       "122725       -4.000000             NaN             NaN          1014.0   \n",
       "122726       -3.800781             5.0             NaN          1014.0   \n",
       "122727       -3.800781             NaN             NaN          1013.5   \n",
       "...                ...             ...             ...             ...   \n",
       "209036      -26.906250             NaN             0.0          1030.0   \n",
       "209037      -26.406250             NaN             NaN          1030.0   \n",
       "209038      -26.906250             NaN             NaN          1030.0   \n",
       "209039      -26.796875             NaN             NaN          1030.0   \n",
       "209040      -27.093750             NaN             NaN          1030.0   \n",
       "\n",
       "        windDirection  windSpeed  \n",
       "122723          270.0   2.099609  \n",
       "122724          260.0   2.099609  \n",
       "122725          260.0   1.500000  \n",
       "122726          260.0   1.500000  \n",
       "122727          230.0   1.000000  \n",
       "...               ...        ...  \n",
       "209036          280.0   3.599609  \n",
       "209037          290.0   5.101562  \n",
       "209038          280.0   3.099609  \n",
       "209039          260.0   2.099609  \n",
       "209040          280.0   2.599609  \n",
       "\n",
       "[33720 rows x 10 columns]"
      ]
     },
     "execution_count": 407,
     "metadata": {},
     "output_type": "execute_result"
    }
   ],
   "source": [
    "ottawa_df = weather_df.loc[weather_df.site_id.isin(['Ottawa_1', 'Ottawa_2']), :]\n",
    "ottawa_df"
   ]
  },
  {
   "cell_type": "code",
   "execution_count": 408,
   "id": "77b8d722",
   "metadata": {},
   "outputs": [
    {
     "data": {
      "text/plain": [
       "16860"
      ]
     },
     "execution_count": 408,
     "metadata": {},
     "output_type": "execute_result"
    }
   ],
   "source": [
    "ottawa_df = ottawa_df.drop(columns='site_id')\n",
    "ottawa_df.duplicated().sum()"
   ]
  },
  {
   "cell_type": "markdown",
   "id": "bfe0ee0f",
   "metadata": {},
   "source": [
    "This confirms the duplications. We are going to removal all data that associated with site_id \"Ottawa_2\" and change \"Ottawa_1\" to \"Ottawa\""
   ]
  },
  {
   "cell_type": "code",
   "execution_count": 409,
   "id": "510b8037",
   "metadata": {},
   "outputs": [
    {
     "data": {
      "text/plain": [
       "site_id\n",
       "Cornell        16973\n",
       "Minneapolis    17540\n",
       "Ottawa         16860\n",
       "Name: airTemperature, dtype: int64"
      ]
     },
     "execution_count": 409,
     "metadata": {},
     "output_type": "execute_result"
    }
   ],
   "source": [
    "weather_df.drop(weather_df[weather_df['site_id'] == 'Ottawa_2'].index, inplace=True)\n",
    "weather_df = weather_df.replace(to_replace='Ottawa_1', value='Ottawa')\n",
    "weather_df.groupby('site_id')['airTemperature'].count()"
   ]
  },
  {
   "cell_type": "code",
   "execution_count": 410,
   "id": "cfa8c792",
   "metadata": {},
   "outputs": [
    {
     "data": {
      "text/html": [
       "<div>\n",
       "<style scoped>\n",
       "    .dataframe tbody tr th:only-of-type {\n",
       "        vertical-align: middle;\n",
       "    }\n",
       "\n",
       "    .dataframe tbody tr th {\n",
       "        vertical-align: top;\n",
       "    }\n",
       "\n",
       "    .dataframe thead th {\n",
       "        text-align: right;\n",
       "    }\n",
       "</style>\n",
       "<table border=\"1\" class=\"dataframe\">\n",
       "  <thead>\n",
       "    <tr style=\"text-align: right;\">\n",
       "      <th></th>\n",
       "      <th>timestamp</th>\n",
       "      <th>site_id</th>\n",
       "      <th>airTemperature</th>\n",
       "      <th>cloudCoverage</th>\n",
       "      <th>dewTemperature</th>\n",
       "      <th>precipDepth1HR</th>\n",
       "      <th>precipDepth6HR</th>\n",
       "      <th>seaLvlPressure</th>\n",
       "      <th>windDirection</th>\n",
       "      <th>windSpeed</th>\n",
       "    </tr>\n",
       "  </thead>\n",
       "  <tbody>\n",
       "    <tr>\n",
       "      <th>122723</th>\n",
       "      <td>2016-01-01 00:00:00</td>\n",
       "      <td>Ottawa</td>\n",
       "      <td>-2.199219</td>\n",
       "      <td>NaN</td>\n",
       "      <td>-3.599609</td>\n",
       "      <td>NaN</td>\n",
       "      <td>NaN</td>\n",
       "      <td>1014.5</td>\n",
       "      <td>270.0</td>\n",
       "      <td>2.099609</td>\n",
       "    </tr>\n",
       "    <tr>\n",
       "      <th>122724</th>\n",
       "      <td>2016-01-01 01:00:00</td>\n",
       "      <td>Ottawa</td>\n",
       "      <td>-2.300781</td>\n",
       "      <td>NaN</td>\n",
       "      <td>-3.800781</td>\n",
       "      <td>NaN</td>\n",
       "      <td>0.0</td>\n",
       "      <td>1014.5</td>\n",
       "      <td>260.0</td>\n",
       "      <td>2.099609</td>\n",
       "    </tr>\n",
       "    <tr>\n",
       "      <th>122725</th>\n",
       "      <td>2016-01-01 02:00:00</td>\n",
       "      <td>Ottawa</td>\n",
       "      <td>-2.800781</td>\n",
       "      <td>NaN</td>\n",
       "      <td>-4.000000</td>\n",
       "      <td>NaN</td>\n",
       "      <td>NaN</td>\n",
       "      <td>1014.0</td>\n",
       "      <td>260.0</td>\n",
       "      <td>1.500000</td>\n",
       "    </tr>\n",
       "    <tr>\n",
       "      <th>122726</th>\n",
       "      <td>2016-01-01 03:00:00</td>\n",
       "      <td>Ottawa</td>\n",
       "      <td>-3.000000</td>\n",
       "      <td>NaN</td>\n",
       "      <td>-3.800781</td>\n",
       "      <td>5.0</td>\n",
       "      <td>NaN</td>\n",
       "      <td>1014.0</td>\n",
       "      <td>260.0</td>\n",
       "      <td>1.500000</td>\n",
       "    </tr>\n",
       "    <tr>\n",
       "      <th>122727</th>\n",
       "      <td>2016-01-01 04:00:00</td>\n",
       "      <td>Ottawa</td>\n",
       "      <td>-3.300781</td>\n",
       "      <td>NaN</td>\n",
       "      <td>-3.800781</td>\n",
       "      <td>NaN</td>\n",
       "      <td>NaN</td>\n",
       "      <td>1013.5</td>\n",
       "      <td>230.0</td>\n",
       "      <td>1.000000</td>\n",
       "    </tr>\n",
       "  </tbody>\n",
       "</table>\n",
       "</div>"
      ],
      "text/plain": [
       "                  timestamp site_id  airTemperature  cloudCoverage  \\\n",
       "122723  2016-01-01 00:00:00  Ottawa       -2.199219            NaN   \n",
       "122724  2016-01-01 01:00:00  Ottawa       -2.300781            NaN   \n",
       "122725  2016-01-01 02:00:00  Ottawa       -2.800781            NaN   \n",
       "122726  2016-01-01 03:00:00  Ottawa       -3.000000            NaN   \n",
       "122727  2016-01-01 04:00:00  Ottawa       -3.300781            NaN   \n",
       "\n",
       "        dewTemperature  precipDepth1HR  precipDepth6HR  seaLvlPressure  \\\n",
       "122723       -3.599609             NaN             NaN          1014.5   \n",
       "122724       -3.800781             NaN             0.0          1014.5   \n",
       "122725       -4.000000             NaN             NaN          1014.0   \n",
       "122726       -3.800781             5.0             NaN          1014.0   \n",
       "122727       -3.800781             NaN             NaN          1013.5   \n",
       "\n",
       "        windDirection  windSpeed  \n",
       "122723          270.0   2.099609  \n",
       "122724          260.0   2.099609  \n",
       "122725          260.0   1.500000  \n",
       "122726          260.0   1.500000  \n",
       "122727          230.0   1.000000  "
      ]
     },
     "execution_count": 410,
     "metadata": {},
     "output_type": "execute_result"
    }
   ],
   "source": [
    "weather_df.head()"
   ]
  },
  {
   "cell_type": "markdown",
   "id": "72723338",
   "metadata": {},
   "source": [
    "In summary, we have 3 locations' weather information: Cornell, Minneapolis, and Ottawa. The fact that they have different counts is telling us we have some missing timeline. We will investigate later."
   ]
  },
  {
   "cell_type": "markdown",
   "id": "e58e1106",
   "metadata": {},
   "source": [
    "## 3. Data Understanding <a id='3'></a>"
   ]
  },
  {
   "cell_type": "markdown",
   "id": "29d9d8a8",
   "metadata": {},
   "source": [
    "Before we jump into summarizing missing data. We use the information below to develop a understanding of our data. The information is from the data publisher."
   ]
  },
  {
   "cell_type": "markdown",
   "id": "160e7722",
   "metadata": {},
   "source": [
    "- timestamp: date and time in the format YYYY-MM-DD hh:mm:ss. Local timezone.\n",
    "- site_id: animal-code-name for the site.\n",
    "- airTemperature: The temperature of the air in degrees Celsius (ºC).\n",
    "- cloudCoverage: Portion of the sky covered in clouds, in oktas.\n",
    "- dewTemperature: The dew point (the temperature to which a given parcel of air must be cooled at constant pressure and water \n",
    "- vapor content in order for saturation to occur) in degrees Celsius (ºC).\n",
    "- precipDepth1HR: The depth of liquid precipitation that is measured over a one hour accumulation period (mm).\n",
    "- precipDepth6HR: The depth of liquid precipitation that is measured over a six hour accumulation period (mm).\n",
    "- seaLvlPressure: The air pressure relative to Mean Sea Level (MSL) (mbar or hPa).\n",
    "- windDirection: The angle, measured in a clockwise direction, between true north and the direction from which the wind is blowing (degrees).\n",
    "- windSpeed: The rate of horizontal travel of air past a fixed point (m/s)."
   ]
  },
  {
   "cell_type": "markdown",
   "id": "92c2520e",
   "metadata": {},
   "source": [
    "### 3.1 Missing Values by Column<a id='3.1'></a>"
   ]
  },
  {
   "cell_type": "code",
   "execution_count": 411,
   "id": "31370ca1",
   "metadata": {},
   "outputs": [
    {
     "name": "stdout",
     "output_type": "stream",
     "text": [
      "<class 'pandas.core.frame.DataFrame'>\n",
      "Int64Index: 51377 entries, 122723 to 313649\n",
      "Data columns (total 10 columns):\n",
      " #   Column          Non-Null Count  Dtype  \n",
      "---  ------          --------------  -----  \n",
      " 0   timestamp       51377 non-null  object \n",
      " 1   site_id         51377 non-null  object \n",
      " 2   airTemperature  51373 non-null  float16\n",
      " 3   cloudCoverage   16695 non-null  float16\n",
      " 4   dewTemperature  51324 non-null  float16\n",
      " 5   precipDepth1HR  22784 non-null  float16\n",
      " 6   precipDepth6HR  4548 non-null   float16\n",
      " 7   seaLvlPressure  49964 non-null  float16\n",
      " 8   windDirection   50487 non-null  float16\n",
      " 9   windSpeed       51339 non-null  float16\n",
      "dtypes: float16(8), object(2)\n",
      "memory usage: 2.0+ MB\n"
     ]
    }
   ],
   "source": [
    "weather_df.info()"
   ]
  },
  {
   "cell_type": "code",
   "execution_count": 412,
   "id": "cb40322f",
   "metadata": {},
   "outputs": [
    {
     "data": {
      "text/html": [
       "<div>\n",
       "<style scoped>\n",
       "    .dataframe tbody tr th:only-of-type {\n",
       "        vertical-align: middle;\n",
       "    }\n",
       "\n",
       "    .dataframe tbody tr th {\n",
       "        vertical-align: top;\n",
       "    }\n",
       "\n",
       "    .dataframe thead th {\n",
       "        text-align: right;\n",
       "    }\n",
       "</style>\n",
       "<table border=\"1\" class=\"dataframe\">\n",
       "  <thead>\n",
       "    <tr style=\"text-align: right;\">\n",
       "      <th></th>\n",
       "      <th>missing_count</th>\n",
       "      <th>%</th>\n",
       "    </tr>\n",
       "  </thead>\n",
       "  <tbody>\n",
       "    <tr>\n",
       "      <th>precipDepth6HR</th>\n",
       "      <td>46829</td>\n",
       "      <td>91.147790</td>\n",
       "    </tr>\n",
       "    <tr>\n",
       "      <th>cloudCoverage</th>\n",
       "      <td>34682</td>\n",
       "      <td>67.504915</td>\n",
       "    </tr>\n",
       "    <tr>\n",
       "      <th>precipDepth1HR</th>\n",
       "      <td>28593</td>\n",
       "      <td>55.653308</td>\n",
       "    </tr>\n",
       "    <tr>\n",
       "      <th>seaLvlPressure</th>\n",
       "      <td>1413</td>\n",
       "      <td>2.750258</td>\n",
       "    </tr>\n",
       "    <tr>\n",
       "      <th>windDirection</th>\n",
       "      <td>890</td>\n",
       "      <td>1.732293</td>\n",
       "    </tr>\n",
       "    <tr>\n",
       "      <th>dewTemperature</th>\n",
       "      <td>53</td>\n",
       "      <td>0.103159</td>\n",
       "    </tr>\n",
       "    <tr>\n",
       "      <th>windSpeed</th>\n",
       "      <td>38</td>\n",
       "      <td>0.073963</td>\n",
       "    </tr>\n",
       "    <tr>\n",
       "      <th>airTemperature</th>\n",
       "      <td>4</td>\n",
       "      <td>0.007786</td>\n",
       "    </tr>\n",
       "    <tr>\n",
       "      <th>timestamp</th>\n",
       "      <td>0</td>\n",
       "      <td>0.000000</td>\n",
       "    </tr>\n",
       "    <tr>\n",
       "      <th>site_id</th>\n",
       "      <td>0</td>\n",
       "      <td>0.000000</td>\n",
       "    </tr>\n",
       "  </tbody>\n",
       "</table>\n",
       "</div>"
      ],
      "text/plain": [
       "                missing_count          %\n",
       "precipDepth6HR          46829  91.147790\n",
       "cloudCoverage           34682  67.504915\n",
       "precipDepth1HR          28593  55.653308\n",
       "seaLvlPressure           1413   2.750258\n",
       "windDirection             890   1.732293\n",
       "dewTemperature             53   0.103159\n",
       "windSpeed                  38   0.073963\n",
       "airTemperature              4   0.007786\n",
       "timestamp                   0   0.000000\n",
       "site_id                     0   0.000000"
      ]
     },
     "execution_count": 412,
     "metadata": {},
     "output_type": "execute_result"
    }
   ],
   "source": [
    "def missing_summary(df):\n",
    "    missing_sum = df.isnull().sum()\n",
    "    missing_mean = df.isnull().mean() * 100\n",
    "    \n",
    "    missing_df = pd.concat([missing_sum,missing_mean], axis=1)\n",
    "    missing_df.columns =['missing_count', '%']\n",
    "    missing_df = missing_df.sort_values('missing_count', ascending=False)\n",
    "    return missing_df\n",
    "\n",
    "missing_summary(weather_df)"
   ]
  }
 ],
 "metadata": {
  "kernelspec": {
   "display_name": "Python 3 (ipykernel)",
   "language": "python",
   "name": "python3"
  },
  "language_info": {
   "codemirror_mode": {
    "name": "ipython",
    "version": 3
   },
   "file_extension": ".py",
   "mimetype": "text/x-python",
   "name": "python",
   "nbconvert_exporter": "python",
   "pygments_lexer": "ipython3",
   "version": "3.11.3"
  }
 },
 "nbformat": 4,
 "nbformat_minor": 5
}
